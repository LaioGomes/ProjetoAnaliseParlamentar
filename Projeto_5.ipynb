{
  "cells": [
    {
      "cell_type": "markdown",
      "metadata": {
        "id": "view-in-github",
        "colab_type": "text"
      },
      "source": [
        "<a href=\"https://colab.research.google.com/github/LaioGomes/ProjetoM5/blob/main/Projeto_5.ipynb\" target=\"_parent\"><img src=\"https://colab.research.google.com/assets/colab-badge.svg\" alt=\"Open In Colab\"/></a>"
      ]
    },
    {
      "cell_type": "markdown",
      "source": [
        "#PERGUNTAS\n",
        "#####2- QUAL A MÉDIA DE GASTOS POR PARLAMENTAR?\n",
        "#####3- QUAIS FORAM OS PARLAMENTARES QUE MAIS E QUE MENOS CONSUMIRAM RECURSOS?\n"
      ],
      "metadata": {
        "id": "1pDhcHhcxqk8"
      }
    },
    {
      "cell_type": "code",
      "execution_count": 256,
      "metadata": {
        "id": "zqZXY4ERLbq7"
      },
      "outputs": [],
      "source": [
        "import pandas as pd\n",
        "import numpy as np"
      ]
    },
    {
      "cell_type": "code",
      "execution_count": 257,
      "metadata": {
        "id": "p_Uz3DY7PXSJ"
      },
      "outputs": [],
      "source": [
        "df_2019 = pd.read_csv('Ano-2019.csv', on_bad_lines='skip', sep = ';')\n",
        "df_2020 = pd.read_csv('Ano-2020.csv', on_bad_lines='skip', sep = ';')\n",
        "df_2021 = pd.read_csv('Ano-2021.csv', on_bad_lines='skip', sep = ';')"
      ]
    },
    {
      "cell_type": "code",
      "source": [
        "#df_2019.columns\n",
        "#df_2019.shape\n",
        "#dados2019 = df_2019['txNomeParlamentar']\n",
        "#dados2019.drop_duplicates()"
      ],
      "metadata": {
        "id": "2c-ozLWgweZd"
      },
      "execution_count": 258,
      "outputs": []
    },
    {
      "cell_type": "markdown",
      "source": [
        "#PREPARAÇÃO DO DATAFRAME (DADOS DE 2019)"
      ],
      "metadata": {
        "id": "ofRM-_mxoL1y"
      }
    },
    {
      "cell_type": "code",
      "source": [
        "nomeParlamentar19 = df_2019[['txNomeParlamentar', 'vlrDocumento', 'vlrLiquido']] #novo DF com colunas que considerei relevantes para extrair os dados"
      ],
      "metadata": {
        "id": "-OGu-nC9OGAi"
      },
      "execution_count": 259,
      "outputs": []
    },
    {
      "cell_type": "code",
      "source": [
        "vlrDocumento2019 = nomeParlamentar19.groupby('txNomeParlamentar') #agrupei todos os valores por parlamentar"
      ],
      "metadata": {
        "id": "Bi4ks_fqxnbv"
      },
      "execution_count": 260,
      "outputs": []
    },
    {
      "cell_type": "code",
      "source": [
        "for nome, dados in vlrDocumento2019:\n",
        "  print(nome)"
      ],
      "metadata": {
        "id": "qWWGvWFFdMlF"
      },
      "execution_count": null,
      "outputs": []
    },
    {
      "cell_type": "markdown",
      "source": [
        "#GASTO MÉDIO POR PARLAMENTAR (DADOS DE 2019)"
      ],
      "metadata": {
        "id": "VTArWgE2fI25"
      }
    },
    {
      "cell_type": "code",
      "source": [
        "vlrDocumento2019[['vlrDocumento', 'vlrLiquido']].mean().round(2) #gasto médio especificado pelo vlrDocumento"
      ],
      "metadata": {
        "id": "ZaFftqOVdk0K"
      },
      "execution_count": null,
      "outputs": []
    },
    {
      "cell_type": "code",
      "source": [
        "for nome, dados in vlrDocumento2019:\n",
        "  print('{} Gastou em média {}'.format(nome, dados.mean().round(2))) #gasto médio detalhadamente para facilitar a compreensão "
      ],
      "metadata": {
        "id": "sF4L2xR3eznk"
      },
      "execution_count": null,
      "outputs": []
    },
    {
      "cell_type": "markdown",
      "source": [
        "#PARLAMENTARES QUE MAIS E QUE MENOS CONSUMIRAM RECURSOS EM 2019"
      ],
      "metadata": {
        "id": "kD_x3FcHiC8z"
      }
    },
    {
      "cell_type": "code",
      "source": [
        "vlrDocumento2019.sum().idxmax() #idmax() puxa o índice com valor máximo dentro do datafframe"
      ],
      "metadata": {
        "id": "LUlWiUt_f98G"
      },
      "execution_count": null,
      "outputs": []
    },
    {
      "cell_type": "code",
      "source": [
        "maisOneroso2019 = nomeParlamentar19.loc[nomeParlamentar19['txNomeParlamentar'] == 'Professora Marcivania']\n",
        "maisOneroso2019.sum() #apliquei um loc[] para extrair os gastos da parlamentar e conferir se ralmente foi o que maiss consumiu recursos"
      ],
      "metadata": {
        "id": "eo1yvJLwOI2S"
      },
      "execution_count": null,
      "outputs": []
    },
    {
      "cell_type": "code",
      "source": [
        "vlrDocumento2019.sum().idxmin() #idmin() puxa o índice com valor mínimo dentro do dataframe"
      ],
      "metadata": {
        "id": "7pmEHeYLiRe9"
      },
      "execution_count": null,
      "outputs": []
    },
    {
      "cell_type": "code",
      "source": [
        "menosOneroso2019 = nomeParlamentar19.loc[nomeParlamentar19['txNomeParlamentar'] == 'FELIPE BORNIER']\n",
        "menosOneroso2019.sum() #apliquei um loc[] para extrair os gastos do parlamentar e conferir se realmente foi o que menos consumiu recursos"
      ],
      "metadata": {
        "id": "-doBbL1Cimrc"
      },
      "execution_count": null,
      "outputs": []
    },
    {
      "cell_type": "markdown",
      "source": [
        "#PREPARAÇÃO DO DATAFRAME (DADOS DE 2020)"
      ],
      "metadata": {
        "id": "PsYUm-R7nbcM"
      }
    },
    {
      "cell_type": "code",
      "source": [
        "nomeParlamentar20 = df_2020[['txNomeParlamentar', 'vlrDocumento', 'vlrLiquido']] #novo DF com colunas que considerei relevantes para extrair os dados"
      ],
      "metadata": {
        "id": "Qxs0awgRniYh"
      },
      "execution_count": 287,
      "outputs": []
    },
    {
      "cell_type": "code",
      "source": [
        "vlrDocumento2020 = nomeParlamentar20.groupby('txNomeParlamentar') #agrupei todos os valores por parlamentar"
      ],
      "metadata": {
        "id": "fDzMabzXniYi"
      },
      "execution_count": 288,
      "outputs": []
    },
    {
      "cell_type": "code",
      "source": [
        "for nome, dados in vlrDocumento2020:\n",
        "  print(nome)"
      ],
      "metadata": {
        "id": "z2kl2C1qniYk"
      },
      "execution_count": null,
      "outputs": []
    },
    {
      "cell_type": "markdown",
      "source": [
        "#GASTO MÉDIO POR PARLAMENTAR (DADOS DE 2020)"
      ],
      "metadata": {
        "id": "K9_qqcyPmSe-"
      }
    },
    {
      "cell_type": "code",
      "source": [
        "vlrDocumento2020[['vlrDocumento', 'vlrLiquido']].mean().round(2) #gasto médio especificado pelo vlrDocumento"
      ],
      "metadata": {
        "id": "gytqCWrUn9sr"
      },
      "execution_count": null,
      "outputs": []
    },
    {
      "cell_type": "code",
      "source": [
        "for nome, dados in vlrDocumento2020:\n",
        "  print('{} Gastou em média {}'.format(nome, dados.mean().round(2))) #gasto médio detalhadamente para facilitar a compreensão "
      ],
      "metadata": {
        "id": "6V-xATbbn9sr"
      },
      "execution_count": null,
      "outputs": []
    },
    {
      "cell_type": "markdown",
      "source": [
        "#PARLAMENTARES QUE MAIS E QUE MENOS CONSUMIRAM RECURSOS EM 2020"
      ],
      "metadata": {
        "id": "wnfcoT4DoUBT"
      }
    },
    {
      "cell_type": "code",
      "source": [
        "vlrDocumento2020.sum().idxmax() #idmax() puxa o índice com valor máximo dentro do datafframe"
      ],
      "metadata": {
        "id": "8Xsow_Trousm"
      },
      "execution_count": null,
      "outputs": []
    },
    {
      "cell_type": "code",
      "source": [
        "maisOneroso2020 = nomeParlamentar20.loc[nomeParlamentar20['txNomeParlamentar'] == 'Jesus Sérgio']\n",
        "maisOneroso2020.sum() #apliquei um loc[] para extrair os gastos da parlamentar e conferir se ralmente foi o que maiss consumiu recursos"
      ],
      "metadata": {
        "id": "Og49P3rMousn"
      },
      "execution_count": null,
      "outputs": []
    },
    {
      "cell_type": "code",
      "source": [
        "vlrDocumento2020.sum().idxmin() #idmin() puxa o índice com valor mínimo dentro do dataframe"
      ],
      "metadata": {
        "id": "PtptTdv4ousn"
      },
      "execution_count": null,
      "outputs": []
    },
    {
      "cell_type": "code",
      "source": [
        "menosOneroso2020 = nomeParlamentar20.loc[nomeParlamentar20['txNomeParlamentar'] == 'Marcelo Álvaro Antônio']\n",
        "menosOneroso2020.sum() #apliquei um loc[] para extrair os gastos do parlamentar e conferir se realmente foi o que menos consumiu recursos"
      ],
      "metadata": {
        "id": "gWB8ibeXousn"
      },
      "execution_count": null,
      "outputs": []
    },
    {
      "cell_type": "markdown",
      "source": [
        "#PREPARAÇÃO DO DATAFRAME (DADOS DE 2021)"
      ],
      "metadata": {
        "id": "S6m7ZZbNLp8F"
      }
    },
    {
      "cell_type": "code",
      "source": [
        "nomeParlamentar21 = df_2021[['txNomeParlamentar', 'vlrDocumento', 'vlrLiquido']] #novo DF com colunas que considerei relevantes para extrair os dados"
      ],
      "metadata": {
        "id": "JaoWLv4YL1Fv"
      },
      "execution_count": 279,
      "outputs": []
    },
    {
      "cell_type": "code",
      "source": [
        "vlrDocumento2021 = nomeParlamentar21.groupby('txNomeParlamentar') #agrupei todos os valores por parlamentar"
      ],
      "metadata": {
        "id": "BsEWajtbL1Fw"
      },
      "execution_count": 280,
      "outputs": []
    },
    {
      "cell_type": "code",
      "source": [
        "for nome, dados in vlrDocumento2021:\n",
        "  print(nome)"
      ],
      "metadata": {
        "id": "WZgLDvMCL1Fw"
      },
      "execution_count": null,
      "outputs": []
    },
    {
      "cell_type": "markdown",
      "source": [
        "#GASTO MÉDIO POR PARLAMENTAR (DADOS DE 2021)"
      ],
      "metadata": {
        "id": "ziL73jIzL_ov"
      }
    },
    {
      "cell_type": "code",
      "source": [
        "vlrDocumento2021[['vlrDocumento', 'vlrLiquido']].mean().round(2) #gasto médio especificado pelo vlrDocumento"
      ],
      "metadata": {
        "id": "-19_UWTvMJIb"
      },
      "execution_count": null,
      "outputs": []
    },
    {
      "cell_type": "code",
      "source": [
        "for nome, dados in vlrDocumento2021:\n",
        "  print('{} Gastou em média {}'.format(nome, dados.mean().round(2))) #gasto médio detalhadamente para facilitar a compreensão "
      ],
      "metadata": {
        "id": "lfEEoqB-MJId"
      },
      "execution_count": null,
      "outputs": []
    },
    {
      "cell_type": "markdown",
      "source": [
        "#PARLAMENTARES QUE MAIS E QUE MENOS CONSUMIRAM RECURSOS EM 2021"
      ],
      "metadata": {
        "id": "z_AvTzLQM7A6"
      }
    },
    {
      "cell_type": "code",
      "source": [
        "vlrDocumento2021.sum().idxmax() #idmax() puxa o índice com valor máximo dentro do datafframe"
      ],
      "metadata": {
        "id": "sX7-jIJ7NFIO"
      },
      "execution_count": null,
      "outputs": []
    },
    {
      "cell_type": "code",
      "source": [
        "maisOneroso2021 = nomeParlamentar21.loc[nomeParlamentar21['txNomeParlamentar'] == 'Jéssica Sales']\n",
        "maisOneroso2021.sum() #apliquei um loc[] para extrair os gastos da parlamentar e conferir se ralmente foi o que maiss consumiu recursos"
      ],
      "metadata": {
        "id": "YrEjP4XSNFIQ"
      },
      "execution_count": null,
      "outputs": []
    },
    {
      "cell_type": "code",
      "source": [
        "vlrDocumento2021.sum().idxmin() #idmin() puxa o índice com valor mínimo dentro do dataframe"
      ],
      "metadata": {
        "colab": {
          "base_uri": "https://localhost:8080/"
        },
        "id": "8CCLcl1SNFIQ",
        "outputId": "97dbd6b8-5f7e-4969-cea6-be8ac91e8bc5"
      },
      "execution_count": 300,
      "outputs": [
        {
          "output_type": "execute_result",
          "data": {
            "text/plain": [
              "vlrDocumento        Fábio Faria\n",
              "vlrLiquido      Felipe Carreras\n",
              "dtype: object"
            ]
          },
          "metadata": {},
          "execution_count": 300
        }
      ]
    },
    {
      "cell_type": "code",
      "source": [
        "menosOneroso2021 = nomeParlamentar21.loc[nomeParlamentar21['txNomeParlamentar'] == 'Fábio Faria']\n",
        "menosOneroso2021.sum() #apliquei um loc[] para extrair os gastos do parlamentar e conferir se realmente foi o que menos consumiu recursos"
      ],
      "metadata": {
        "id": "UbhIUGH8NFIR"
      },
      "execution_count": null,
      "outputs": []
    },
    {
      "cell_type": "markdown",
      "source": [
        "#teste"
      ],
      "metadata": {
        "id": "SwyfuKu-Jeey"
      }
    },
    {
      "cell_type": "code",
      "source": [
        "vlrDocumento2020[['vlrDocumento', 'vlrLiquido']].aggregate(['min', 'mean', 'max']).round(2)"
      ],
      "metadata": {
        "colab": {
          "base_uri": "https://localhost:8080/",
          "height": 486
        },
        "id": "dh9J5ZNxJqSA",
        "outputId": "92258a31-ae23-4f63-80d2-dff048e4485e"
      },
      "execution_count": 302,
      "outputs": [
        {
          "output_type": "execute_result",
          "data": {
            "text/plain": [
              "                  vlrDocumento                   vlrLiquido                  \n",
              "                           min     mean      max        min     mean      max\n",
              "txNomeParlamentar                                                            \n",
              "AJ Albuquerque        -1469.82  2175.38  15000.0   -2332.01  1944.92  15000.0\n",
              "Abou Anni                 0.25   315.97  14400.0       0.25   315.22  14400.0\n",
              "Abílio Santana            0.02  1141.69  30420.0   -2087.96   974.13  30420.0\n",
              "Acácio Favacho            0.01  2383.93  32450.0   -2395.78  1760.83  32450.0\n",
              "Adolfo Viana              0.86  1702.39  22000.0   -1875.32  1461.09  22000.0\n",
              "...                        ...      ...      ...        ...      ...      ...\n",
              "Zé Silva               -868.80   879.85  21500.0    -868.80   869.88  21500.0\n",
              "Zé Vitor                  2.05   767.24  16000.0    -528.20   749.19  16000.0\n",
              "Átila Lins            -3977.90  1835.91  26000.0   -3977.90  1835.22  26000.0\n",
              "Átila Lira                1.64  2573.51  23500.0   -2495.32  2351.61  23500.0\n",
              "Áurea Carolina            0.65  1033.73  16000.0    -669.73   984.78  16000.0\n",
              "\n",
              "[554 rows x 6 columns]"
            ],
            "text/html": [
              "\n",
              "  <div id=\"df-63d497cb-60ab-4b48-a4d7-22fab25b0f78\">\n",
              "    <div class=\"colab-df-container\">\n",
              "      <div>\n",
              "<style scoped>\n",
              "    .dataframe tbody tr th:only-of-type {\n",
              "        vertical-align: middle;\n",
              "    }\n",
              "\n",
              "    .dataframe tbody tr th {\n",
              "        vertical-align: top;\n",
              "    }\n",
              "\n",
              "    .dataframe thead tr th {\n",
              "        text-align: left;\n",
              "    }\n",
              "\n",
              "    .dataframe thead tr:last-of-type th {\n",
              "        text-align: right;\n",
              "    }\n",
              "</style>\n",
              "<table border=\"1\" class=\"dataframe\">\n",
              "  <thead>\n",
              "    <tr>\n",
              "      <th></th>\n",
              "      <th colspan=\"3\" halign=\"left\">vlrDocumento</th>\n",
              "      <th colspan=\"3\" halign=\"left\">vlrLiquido</th>\n",
              "    </tr>\n",
              "    <tr>\n",
              "      <th></th>\n",
              "      <th>min</th>\n",
              "      <th>mean</th>\n",
              "      <th>max</th>\n",
              "      <th>min</th>\n",
              "      <th>mean</th>\n",
              "      <th>max</th>\n",
              "    </tr>\n",
              "    <tr>\n",
              "      <th>txNomeParlamentar</th>\n",
              "      <th></th>\n",
              "      <th></th>\n",
              "      <th></th>\n",
              "      <th></th>\n",
              "      <th></th>\n",
              "      <th></th>\n",
              "    </tr>\n",
              "  </thead>\n",
              "  <tbody>\n",
              "    <tr>\n",
              "      <th>AJ Albuquerque</th>\n",
              "      <td>-1469.82</td>\n",
              "      <td>2175.38</td>\n",
              "      <td>15000.0</td>\n",
              "      <td>-2332.01</td>\n",
              "      <td>1944.92</td>\n",
              "      <td>15000.0</td>\n",
              "    </tr>\n",
              "    <tr>\n",
              "      <th>Abou Anni</th>\n",
              "      <td>0.25</td>\n",
              "      <td>315.97</td>\n",
              "      <td>14400.0</td>\n",
              "      <td>0.25</td>\n",
              "      <td>315.22</td>\n",
              "      <td>14400.0</td>\n",
              "    </tr>\n",
              "    <tr>\n",
              "      <th>Abílio Santana</th>\n",
              "      <td>0.02</td>\n",
              "      <td>1141.69</td>\n",
              "      <td>30420.0</td>\n",
              "      <td>-2087.96</td>\n",
              "      <td>974.13</td>\n",
              "      <td>30420.0</td>\n",
              "    </tr>\n",
              "    <tr>\n",
              "      <th>Acácio Favacho</th>\n",
              "      <td>0.01</td>\n",
              "      <td>2383.93</td>\n",
              "      <td>32450.0</td>\n",
              "      <td>-2395.78</td>\n",
              "      <td>1760.83</td>\n",
              "      <td>32450.0</td>\n",
              "    </tr>\n",
              "    <tr>\n",
              "      <th>Adolfo Viana</th>\n",
              "      <td>0.86</td>\n",
              "      <td>1702.39</td>\n",
              "      <td>22000.0</td>\n",
              "      <td>-1875.32</td>\n",
              "      <td>1461.09</td>\n",
              "      <td>22000.0</td>\n",
              "    </tr>\n",
              "    <tr>\n",
              "      <th>...</th>\n",
              "      <td>...</td>\n",
              "      <td>...</td>\n",
              "      <td>...</td>\n",
              "      <td>...</td>\n",
              "      <td>...</td>\n",
              "      <td>...</td>\n",
              "    </tr>\n",
              "    <tr>\n",
              "      <th>Zé Silva</th>\n",
              "      <td>-868.80</td>\n",
              "      <td>879.85</td>\n",
              "      <td>21500.0</td>\n",
              "      <td>-868.80</td>\n",
              "      <td>869.88</td>\n",
              "      <td>21500.0</td>\n",
              "    </tr>\n",
              "    <tr>\n",
              "      <th>Zé Vitor</th>\n",
              "      <td>2.05</td>\n",
              "      <td>767.24</td>\n",
              "      <td>16000.0</td>\n",
              "      <td>-528.20</td>\n",
              "      <td>749.19</td>\n",
              "      <td>16000.0</td>\n",
              "    </tr>\n",
              "    <tr>\n",
              "      <th>Átila Lins</th>\n",
              "      <td>-3977.90</td>\n",
              "      <td>1835.91</td>\n",
              "      <td>26000.0</td>\n",
              "      <td>-3977.90</td>\n",
              "      <td>1835.22</td>\n",
              "      <td>26000.0</td>\n",
              "    </tr>\n",
              "    <tr>\n",
              "      <th>Átila Lira</th>\n",
              "      <td>1.64</td>\n",
              "      <td>2573.51</td>\n",
              "      <td>23500.0</td>\n",
              "      <td>-2495.32</td>\n",
              "      <td>2351.61</td>\n",
              "      <td>23500.0</td>\n",
              "    </tr>\n",
              "    <tr>\n",
              "      <th>Áurea Carolina</th>\n",
              "      <td>0.65</td>\n",
              "      <td>1033.73</td>\n",
              "      <td>16000.0</td>\n",
              "      <td>-669.73</td>\n",
              "      <td>984.78</td>\n",
              "      <td>16000.0</td>\n",
              "    </tr>\n",
              "  </tbody>\n",
              "</table>\n",
              "<p>554 rows × 6 columns</p>\n",
              "</div>\n",
              "      <button class=\"colab-df-convert\" onclick=\"convertToInteractive('df-63d497cb-60ab-4b48-a4d7-22fab25b0f78')\"\n",
              "              title=\"Convert this dataframe to an interactive table.\"\n",
              "              style=\"display:none;\">\n",
              "        \n",
              "  <svg xmlns=\"http://www.w3.org/2000/svg\" height=\"24px\"viewBox=\"0 0 24 24\"\n",
              "       width=\"24px\">\n",
              "    <path d=\"M0 0h24v24H0V0z\" fill=\"none\"/>\n",
              "    <path d=\"M18.56 5.44l.94 2.06.94-2.06 2.06-.94-2.06-.94-.94-2.06-.94 2.06-2.06.94zm-11 1L8.5 8.5l.94-2.06 2.06-.94-2.06-.94L8.5 2.5l-.94 2.06-2.06.94zm10 10l.94 2.06.94-2.06 2.06-.94-2.06-.94-.94-2.06-.94 2.06-2.06.94z\"/><path d=\"M17.41 7.96l-1.37-1.37c-.4-.4-.92-.59-1.43-.59-.52 0-1.04.2-1.43.59L10.3 9.45l-7.72 7.72c-.78.78-.78 2.05 0 2.83L4 21.41c.39.39.9.59 1.41.59.51 0 1.02-.2 1.41-.59l7.78-7.78 2.81-2.81c.8-.78.8-2.07 0-2.86zM5.41 20L4 18.59l7.72-7.72 1.47 1.35L5.41 20z\"/>\n",
              "  </svg>\n",
              "      </button>\n",
              "      \n",
              "  <style>\n",
              "    .colab-df-container {\n",
              "      display:flex;\n",
              "      flex-wrap:wrap;\n",
              "      gap: 12px;\n",
              "    }\n",
              "\n",
              "    .colab-df-convert {\n",
              "      background-color: #E8F0FE;\n",
              "      border: none;\n",
              "      border-radius: 50%;\n",
              "      cursor: pointer;\n",
              "      display: none;\n",
              "      fill: #1967D2;\n",
              "      height: 32px;\n",
              "      padding: 0 0 0 0;\n",
              "      width: 32px;\n",
              "    }\n",
              "\n",
              "    .colab-df-convert:hover {\n",
              "      background-color: #E2EBFA;\n",
              "      box-shadow: 0px 1px 2px rgba(60, 64, 67, 0.3), 0px 1px 3px 1px rgba(60, 64, 67, 0.15);\n",
              "      fill: #174EA6;\n",
              "    }\n",
              "\n",
              "    [theme=dark] .colab-df-convert {\n",
              "      background-color: #3B4455;\n",
              "      fill: #D2E3FC;\n",
              "    }\n",
              "\n",
              "    [theme=dark] .colab-df-convert:hover {\n",
              "      background-color: #434B5C;\n",
              "      box-shadow: 0px 1px 3px 1px rgba(0, 0, 0, 0.15);\n",
              "      filter: drop-shadow(0px 1px 2px rgba(0, 0, 0, 0.3));\n",
              "      fill: #FFFFFF;\n",
              "    }\n",
              "  </style>\n",
              "\n",
              "      <script>\n",
              "        const buttonEl =\n",
              "          document.querySelector('#df-63d497cb-60ab-4b48-a4d7-22fab25b0f78 button.colab-df-convert');\n",
              "        buttonEl.style.display =\n",
              "          google.colab.kernel.accessAllowed ? 'block' : 'none';\n",
              "\n",
              "        async function convertToInteractive(key) {\n",
              "          const element = document.querySelector('#df-63d497cb-60ab-4b48-a4d7-22fab25b0f78');\n",
              "          const dataTable =\n",
              "            await google.colab.kernel.invokeFunction('convertToInteractive',\n",
              "                                                     [key], {});\n",
              "          if (!dataTable) return;\n",
              "\n",
              "          const docLinkHtml = 'Like what you see? Visit the ' +\n",
              "            '<a target=\"_blank\" href=https://colab.research.google.com/notebooks/data_table.ipynb>data table notebook</a>'\n",
              "            + ' to learn more about interactive tables.';\n",
              "          element.innerHTML = '';\n",
              "          dataTable['output_type'] = 'display_data';\n",
              "          await google.colab.output.renderOutput(dataTable, element);\n",
              "          const docLink = document.createElement('div');\n",
              "          docLink.innerHTML = docLinkHtml;\n",
              "          element.appendChild(docLink);\n",
              "        }\n",
              "      </script>\n",
              "    </div>\n",
              "  </div>\n",
              "  "
            ]
          },
          "metadata": {},
          "execution_count": 302
        }
      ]
    }
  ],
  "metadata": {
    "colab": {
      "name": "Projeto 5.ipynb",
      "provenance": [],
      "collapsed_sections": [],
      "mount_file_id": "1mBVg5IBCfZYqrh-rOSSqxE-BHzWQf2KY",
      "authorship_tag": "ABX9TyNBsbdLsYOItNBvlarhrO5s",
      "include_colab_link": true
    },
    "kernelspec": {
      "display_name": "Python 3",
      "name": "python3"
    },
    "language_info": {
      "name": "python"
    }
  },
  "nbformat": 4,
  "nbformat_minor": 0
}
